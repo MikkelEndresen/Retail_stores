{
 "metadata": {
  "kernelspec": {
   "display_name": "Streamlit Notebook",
   "name": "streamlit"
  }
 },
 "nbformat_minor": 5,
 "nbformat": 4,
 "cells": [
  {
   "cell_type": "markdown",
   "id": "a3d8a826-5378-45d6-ab75-47a601bf6292",
   "metadata": {
    "name": "cell1",
    "collapsed": false
   },
   "source": "# Code used to store Model Performances\n\n## Setting up schema and databases"
  },
  {
   "cell_type": "code",
   "id": "0f5da366-dfcb-4cfc-a2ef-9fd812293dc7",
   "metadata": {
    "language": "sql",
    "name": "cell2"
   },
   "outputs": [],
   "source": "create schema if not exists model_results_schema;\n\ncreate table if not exists model_results_schema.confusion_matrix(\n    id int autoincrement primary key,\n    true_positive int,\n    true_negative int, \n    false_positive int, \n    false_negative int,\n    create_at timestamp default current_timestamp\n);\n\ncreate table if not exists model_results_schema.model_performance (\n    model_name string,\n    accuracy float,\n    recall float,\n    confusion_matrix_id int,\n    training_time float,\n    prediction_time float,\n    parameters string,\n    coefficients string, \n    intercept float,\n    notes string, \n    create_at timestamp default current_timestamp\n);",
   "execution_count": null
  },
  {
   "cell_type": "markdown",
   "id": "0f554818-a214-4783-bbc2-18507317db26",
   "metadata": {
    "name": "cell3",
    "collapsed": false
   },
   "source": "### Check results"
  },
  {
   "cell_type": "code",
   "id": "2509e4fc-b46d-4701-8c84-2e6fa5797350",
   "metadata": {
    "language": "sql",
    "name": "cell4"
   },
   "outputs": [],
   "source": "select * from model_results_schema.model_performance;\n--select * from model_results_schema.confusion_matrix",
   "execution_count": null
  },
  {
   "cell_type": "markdown",
   "id": "f1e4c367-3cb4-413b-8f89-1aba12527fdf",
   "metadata": {
    "name": "cell5",
    "collapsed": false
   },
   "source": "## Python method to store results\n\nUsed by copying over into model notebooks. "
  },
  {
   "cell_type": "code",
   "id": "3b3539a5-f727-409e-9ad9-05fbd4fc87c0",
   "metadata": {
    "language": "python",
    "name": "cell6"
   },
   "outputs": [],
   "source": "import json\n\ndef record_performance(true_positive, true_negative, false_positive, false_negative, model_name, accuracy, recall, training_time, prediction_time, \n         parameters, coefficients, intercept, notes):\n    ## NB: Make sure the name makes the model easily identifiable. \n\n    confusion_matrix_insert_sql = f\"\"\"\n        insert into model_results_schema.confusion_matrix\n        (true_positive, true_negative, false_positive, false_negative)\n        values\n        ({true_positive}, {true_negative}, {false_positive}, {false_negative});\n    \"\"\"\n    \n    session.sql(confusion_matrix_insert_sql).collect()\n\n    last_id_sql = \"\"\"\n        select id\n        from model_results_schema.confusion_matrix\n        order by create_at desc\n        limit 1;\n    \"\"\" \n    confusion_matrix_id = session.sql(last_id_sql).collect()\n    confusion_matrix_id = confusion_matrix_id[0]['ID']\n\n    # These two need to be on a string format. \n    coefficients = ', '.join(map(str, coefficients))\n    parameters = json.dumps(parameters)\n    \n    # Insert data into the model_performance table\n    session.sql(f\"\"\"\n        insert into model_results_schema.model_performance\n            (model_name, accuracy, recall, confusion_matrix_id,\n            training_time, prediction_time, parameters, coefficients,\n            intercept, notes)\n        values\n            ('{model_name}', {accuracy}, {recall}, {confusion_matrix_id}, {training_time}, {prediction_time}, \n            '{parameters}', '{coefficients}', {intercept}, '{notes}');\n    \"\"\").collect()\n    \n    return \"success\"\n",
   "execution_count": null
  },
  {
   "cell_type": "code",
   "id": "7296ba45-9dcc-4bdc-8cbe-bf4b55bbb0bf",
   "metadata": {
    "language": "python",
    "name": "cell7"
   },
   "outputs": [],
   "source": "import pandas as pd\nimport csv\n\n\n\nheader = [\"model_name\", \"accuracy\", \"recall\", \"confusion_matrix_id\",\n          \"training_time\", \"prediction_time\", \"parameters\", \n          \"coefficients\", \"intercept\", \"notes\"]\n\nfile = open('results.csv', 'w')\n\ndata = \"helo\"\nwriter = csv.writer(file)\nwriter.writerow(header)  # Write the header\nwriter.writerow(data)\n\nfile = open('results.csv', 'r')\n\n\nprint(file)",
   "execution_count": null
  },
  {
   "cell_type": "code",
   "id": "826c94af-4004-439a-a365-f3d543b6d17a",
   "metadata": {
    "language": "python",
    "name": "cell8"
   },
   "outputs": [],
   "source": "",
   "execution_count": null
  },
  {
   "cell_type": "code",
   "id": "58bcf360-d802-4914-a7b4-46cbe04b3d10",
   "metadata": {
    "language": "python",
    "name": "cell9"
   },
   "outputs": [],
   "source": "import os\nos.listdir()",
   "execution_count": null
  }
 ]
}